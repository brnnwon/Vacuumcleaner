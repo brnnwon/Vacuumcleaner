{
  "nbformat": 4,
  "nbformat_minor": 0,
  "metadata": {
    "colab": {
      "name": "Simple Reflex Agent.ipynb",
      "provenance": [],
      "collapsed_sections": [],
      "authorship_tag": "ABX9TyPTogM/U2T/I/S8n/T6Vb5a",
      "include_colab_link": true
    },
    "kernelspec": {
      "name": "python3",
      "display_name": "Python 3"
    },
    "language_info": {
      "name": "python"
    }
  },
  "cells": [
    {
      "cell_type": "markdown",
      "metadata": {
        "id": "view-in-github",
        "colab_type": "text"
      },
      "source": [
        "<a href=\"https://colab.research.google.com/github/brnnwon/Vacuumcleaner/blob/main/Simple_Reflex_Agent.ipynb\" target=\"_parent\"><img src=\"https://colab.research.google.com/assets/colab-badge.svg\" alt=\"Open In Colab\"/></a>"
      ]
    },
    {
      "cell_type": "markdown",
      "source": [
        "# Vacuum Cleaner\n",
        "\n",
        "![Vacuum Cleaner](https://drive.google.com/uc?export=view&id=1-hYdGAPIOqxGuXPkfO0i6Nfrd0DpU5K2)\n",
        "\n",
        "**Intelligent Agent**\n",
        "\n",
        "![Intelligent Agent](https://drive.google.com/uc?export=view&id=10KPDEpKFk3_ZpulE4zKRvO4wyZycDRd2)\n",
        "\n",
        "**Vacuum Cleaner(PEAS)**\n",
        "\n",
        "|                  ||            |\n",
        "|------------------||------------|\n",
        "Perfomance Measure | Cleanness \n",
        "Environment       | room (A or B), floor, wall and dust\n",
        "Actuators         | suck, movement\n",
        "Sensor            | dust sensor, location tracking\n",
        "\n",
        "\n"
      ],
      "metadata": {
        "id": "wzFn9FEOe2vg"
      }
    },
    {
      "cell_type": "markdown",
      "source": [
        "#Clone from repository from Github to my GDrive"
      ],
      "metadata": {
        "id": "PB9iz15HqbZg"
      }
    },
    {
      "cell_type": "code",
      "source": [
        "#print working directory\n",
        "!pwd"
      ],
      "metadata": {
        "colab": {
          "base_uri": "https://localhost:8080/"
        },
        "id": "wVvAkkJOjVE-",
        "outputId": "ad5a16cb-d15b-4956-a706-d805744d7cd9"
      },
      "execution_count": 1,
      "outputs": [
        {
          "output_type": "stream",
          "name": "stdout",
          "text": [
            "/content\n"
          ]
        }
      ]
    },
    {
      "cell_type": "code",
      "source": [
        "#clone repository\n",
        "!git clone https://github.com/Laksheeta/Simple-Reflex-Vaccum-Agent.git"
      ],
      "metadata": {
        "colab": {
          "base_uri": "https://localhost:8080/"
        },
        "id": "Ipf2aKGAqkHX",
        "outputId": "5de457c3-4606-46d6-bf2c-66e49c1abe5b"
      },
      "execution_count": 2,
      "outputs": [
        {
          "output_type": "stream",
          "name": "stdout",
          "text": [
            "Cloning into 'Simple-Reflex-Vaccum-Agent'...\n",
            "remote: Enumerating objects: 18, done.\u001b[K\n",
            "remote: Counting objects: 100% (18/18), done.\u001b[K\n",
            "remote: Compressing objects: 100% (17/17), done.\u001b[K\n",
            "remote: Total 18 (delta 4), reused 3 (delta 0), pack-reused 0\u001b[K\n",
            "Unpacking objects: 100% (18/18), done.\n"
          ]
        }
      ]
    },
    {
      "cell_type": "code",
      "source": [
        "#mount GDrive\n",
        "\n",
        "from google.colab import drive\n",
        "\n",
        "ROOT = \"/content/Gdrive\"\n",
        "\n",
        "drive.mount(ROOT)"
      ],
      "metadata": {
        "colab": {
          "base_uri": "https://localhost:8080/"
        },
        "id": "181FrlN0qllV",
        "outputId": "15423de1-dc87-44bc-e44a-88a65bfb310b"
      },
      "execution_count": 3,
      "outputs": [
        {
          "output_type": "stream",
          "name": "stdout",
          "text": [
            "Mounted at /content/Gdrive\n"
          ]
        }
      ]
    },
    {
      "cell_type": "code",
      "source": [
        "Proj_path = \"/content/Gdrive/MyDrive/Simple Agent\""
      ],
      "metadata": {
        "id": "CUfFU27FruRs"
      },
      "execution_count": 4,
      "outputs": []
    },
    {
      "cell_type": "code",
      "source": [
        "!mkdir = {Proj_path} "
      ],
      "metadata": {
        "id": "fLCgNpo5r7Yn"
      },
      "execution_count": 5,
      "outputs": []
    },
    {
      "cell_type": "code",
      "source": [
        "!mv /content/Simple-Reflex-Vaccum-Agent/* \"{Proj_path}\" "
      ],
      "metadata": {
        "id": "WO4atw1DsBuX"
      },
      "execution_count": 6,
      "outputs": []
    },
    {
      "cell_type": "markdown",
      "source": [
        "#Vacuum code from Github"
      ],
      "metadata": {
        "id": "cfEZt0hts6bG"
      }
    },
    {
      "cell_type": "code",
      "source": [
        "import random\n",
        "\n",
        "\n",
        "class Environment(object):\n",
        "    def __init__(self):\n",
        "        self.locationCondition = {'A': '0', 'B': '0'}\n",
        "        self.locationCondition['A'] = random.randint(0, 1)\n",
        "        self.locationCondition['B'] = random.randint(0, 1)\n",
        "\n",
        "\n",
        "class SimpleReflexVacuumAgent(Environment):\n",
        "    def __init__(self, Environment):\n",
        "        print (Environment.locationCondition)\n",
        "        Score = 0\n",
        "        vacuumLocation = random.randint(0, 1)\n",
        "        if vacuumLocation == 0:\n",
        "            print (\"Vacuum is randomly placed at Location A.\")\n",
        "            print (\"Location A is Dirty.\") if Environment.locationCondition['A'] == 1 else print(\"Location A is Clean.\")\n",
        "            if Environment.locationCondition['A'] == 1:\n",
        "                Environment.locationCondition['A'] = 0\n",
        "                Score += 1\n",
        "                print (\"Location A has been Cleaned.\") \n",
        "            print (\"Moving to Location B...\")\n",
        "            print (\"Location B is Dirty.\") if Environment.locationCondition['B'] == 1 else print(\"Location B is Clean.\")\n",
        "            if Environment.locationCondition['B'] == 1:\n",
        "                Environment.locationCondition['B'] = 0;\n",
        "                Score += 1\n",
        "                print (\"Location B has been Cleaned.\")\n",
        "            print(\"Environment is Clean.\")\n",
        "                \n",
        "        elif vacuumLocation == 1:\n",
        "            print (\"Vacuum randomly placed at Location B.\")\n",
        "            print (\"Location B is Dirty.\") if Environment.locationCondition['B'] == 1 else print(\"Location B is Clean.\")\n",
        "            if Environment.locationCondition['B'] == 1:\n",
        "                Environment.locationCondition['B'] = 0\n",
        "                Score += 1\n",
        "                print (\"Location B has been Cleaned.\")\n",
        "            print (\"Moving to Location A...\")\n",
        "            print (\"Location A is Dirty.\") if Environment.locationCondition['A'] == 1 else print(\"Location A is Clean.\")\n",
        "            if Environment.locationCondition['A'] == 1:\n",
        "                Environment.locationCondition['A'] = 0;\n",
        "                Score += 1\n",
        "                print (\"Location A has been Cleaned.\")\n",
        "            print(\"Environment is Clean.\")    \n",
        "            \n",
        "        print (Environment.locationCondition)\n",
        "        print (\"Performance Measurement: \" + str(Score))\n",
        "\n",
        "\n",
        "theEnvironment = Environment()\n",
        "theVacuum = SimpleReflexVacuumAgent(theEnvironment)"
      ],
      "metadata": {
        "colab": {
          "base_uri": "https://localhost:8080/"
        },
        "id": "qDS3eULGsQEr",
        "outputId": "cf87e741-a28a-45aa-9dff-9968c242a213"
      },
      "execution_count": 7,
      "outputs": [
        {
          "output_type": "stream",
          "name": "stdout",
          "text": [
            "{'A': 1, 'B': 1}\n",
            "Vacuum is randomly placed at Location A.\n",
            "Location A is Dirty.\n",
            "Location A has been Cleaned.\n",
            "Moving to Location B...\n",
            "Location B is Dirty.\n",
            "Location B has been Cleaned.\n",
            "Environment is Clean.\n",
            "{'A': 0, 'B': 0}\n",
            "Performance Measurement: 2\n"
          ]
        }
      ]
    }
  ]
}